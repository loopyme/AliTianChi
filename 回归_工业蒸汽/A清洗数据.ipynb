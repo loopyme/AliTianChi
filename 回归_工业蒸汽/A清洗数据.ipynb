{
 "cells": [
  {
   "cell_type": "markdown",
   "metadata": {},
   "source": [
    "# PartA 清洗数据\n",
    "\n",
    "主要包括:\n",
    " - 测试集训练集合并\n",
    " - 按照排序重新装袋\n",
    " - 拆分测试集和训练集\n",
    " \n",
    "TODO:\n",
    " - [ ] 调整袋数\n",
    " \n",
    "结果：\n",
    " - "
   ]
  },
  {
   "cell_type": "code",
   "execution_count": 1,
   "metadata": {},
   "outputs": [
    {
     "name": "stderr",
     "output_type": "stream",
     "text": [
      "/home/x/.local/lib/python3.6/site-packages/sklearn/externals/joblib/__init__.py:15: DeprecationWarning: sklearn.externals.joblib is deprecated in 0.21 and will be removed in 0.23. Please import this functionality directly from joblib, which can be installed with: pip install joblib. If this warning is raised when loading pickled models, you may need to re-serialize those models with scikit-learn 0.21+.\n",
      "  warnings.warn(msg, category=DeprecationWarning)\n"
     ]
    }
   ],
   "source": [
    "import pandas as pd \n",
    "import numpy as np\n",
    "from sklearn import preprocessing\n",
    "from sklearn.model_selection import train_test_split\n",
    "from sklearn.metrics import mean_squared_error as MSE\n",
    "from sklearn.externals import joblib\n",
    "from sklearn.model_selection import KFold\n",
    "\n",
    "import matplotlib.pyplot as plt"
   ]
  },
  {
   "cell_type": "code",
   "execution_count": null,
   "metadata": {},
   "outputs": [],
   "source": [
    "data_train=pd.read_csv('datalab/231693/zhengqi_train.txt',encoding='gbk',sep=\"\\t\")\n",
    "data_test=pd.read_csv('datalab/231693/zhengqi_test.txt',encoding='gbk',sep=\"\\t\")\n",
    "\n",
    "data_train['ori']='train'\n",
    "data_test['ori']='test'\n",
    "Y = data_train[\"target\"]               \n",
    "data_train = data_train.drop(['target'],axis=1)\n",
    "\n",
    "data = pd.concat([data_train,data_test]).reset_index().drop(['index'],axis=1)\n",
    "\n",
    "data.head()"
   ]
  },
  {
   "cell_type": "code",
   "execution_count": null,
   "metadata": {},
   "outputs": [],
   "source": [
    "#Data discretization\n",
    "def data_bagging_index(data):\n",
    "    if data[0]=='train' or data[0]=='test':\n",
    "        return data\n",
    "    count_per_bag=data.count()/50\n",
    "    \n",
    "    data = data.rank()\n",
    "    data=data.apply(lambda x:x//count_per_bag)\n",
    "    \n",
    "    return data\n",
    "\n",
    "data_bagging_index=data.apply(data_bagging_index)\n",
    "data_bagging_index.head()"
   ]
  },
  {
   "cell_type": "code",
   "execution_count": null,
   "metadata": {},
   "outputs": [],
   "source": [
    "#Data discretization\n",
    "def data_bagging_value(data):\n",
    "    if data[0]=='train' or data[0]=='test':\n",
    "        return data\n",
    "    \n",
    "    def find_max_min(data):\n",
    "        sorted_data = data.sort_values(ascending = False)\n",
    "        return sorted_data.iloc[3],sorted_data.iloc[-3]\n",
    "    \n",
    "    max_,min_ = find_max_min(data)\n",
    "    \n",
    "    per_bag=(data.max()-data.min())/50\n",
    "    data=data.apply(lambda x: (x-min_)//per_bag if x>min_ else 0)\n",
    "    \n",
    "    return data\n",
    "\n",
    "data_bagging_value=data.apply(data_bagging_value)\n",
    "data_bagging_value.head()"
   ]
  },
  {
   "cell_type": "markdown",
   "metadata": {},
   "source": [
    "## 选择分袋方式并保存"
   ]
  },
  {
   "cell_type": "code",
   "execution_count": null,
   "metadata": {},
   "outputs": [],
   "source": [
    "data_bagging = data_bagging_value"
   ]
  },
  {
   "cell_type": "code",
   "execution_count": null,
   "metadata": {},
   "outputs": [],
   "source": [
    "data_train = data_bagging[data_bagging['ori']=='train'].drop('ori',axis=1).join(Y)\n",
    "data_test = data_bagging[data_bagging['ori']=='test'].drop('ori',axis=1)"
   ]
  },
  {
   "cell_type": "code",
   "execution_count": null,
   "metadata": {},
   "outputs": [],
   "source": [
    "data_train.to_csv('myspace/steam_train_washed_v.csv')\n",
    "data_test.to_csv('myspace/steam_test_washed_v.csv')"
   ]
  },
  {
   "cell_type": "code",
   "execution_count": null,
   "metadata": {},
   "outputs": [],
   "source": [
    "data_train.head(5)"
   ]
  }
 ],
 "metadata": {
  "kernelspec": {
   "display_name": "Python 3",
   "language": "python",
   "name": "python3"
  },
  "language_info": {
   "codemirror_mode": {
    "name": "ipython",
    "version": 3
   },
   "file_extension": ".py",
   "mimetype": "text/x-python",
   "name": "python",
   "nbconvert_exporter": "python",
   "pygments_lexer": "ipython3",
   "version": "3.6.7"
  }
 },
 "nbformat": 4,
 "nbformat_minor": 2
}
