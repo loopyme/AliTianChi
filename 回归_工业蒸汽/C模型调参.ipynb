{
 "cells": [
  {
   "cell_type": "markdown",
   "metadata": {},
   "source": [
    "# PartC 模型调参_没有感情的调参机器\n",
    "\n",
    "主要包括:\n",
    " - xgboost          回归器的调参\n",
    " - LightGBM         回归器的调参\n",
    "\n",
    "结果:\n",
    "- 搭配[PartB 模型训练_融合](https://tianchi.aliyun.com/notebook-ai/detail?spm=5176.12586969.1002.12.3f9274ffA3rz5o&postId=57377)食用，但总的来说效果提高不显著，还是得靠特征工程"
   ]
  },
  {
   "cell_type": "code",
   "execution_count": null,
   "metadata": {},
   "outputs": [],
   "source": [
    "# 查看数据文件目录  list datalab files\n",
    "!ls datalab/231693"
   ]
  },
  {
   "cell_type": "code",
   "execution_count": null,
   "metadata": {},
   "outputs": [],
   "source": [
    "import pandas as pd \n",
    "import numpy as np\n",
    "from sklearn import preprocessing\n",
    "from sklearn.model_selection import train_test_split\n",
    "from sklearn.metrics import mean_squared_error as MSE\n",
    "from sklearn.externals import joblib\n",
    "from sklearn.model_selection import KFold\n",
    "from xgboost.sklearn import XGBRegressor\n",
    "from sklearn.grid_search import GridSearchCV\n",
    "from lightgbm.sklearn import LGBMRegressor\n",
    "from sklearn.ensemble import GradientBoostingRegressor"
   ]
  },
  {
   "cell_type": "code",
   "execution_count": null,
   "metadata": {},
   "outputs": [],
   "source": [
    "data=pd.read_csv('myspace/steam_train_washed.csv').drop('Unnamed: 0',axis=1)\n",
    "\n",
    "Y = data[\"target\"]               \n",
    "X = data.drop(['target'],axis=1)\n"
   ]
  },
  {
   "cell_type": "code",
   "execution_count": null,
   "metadata": {},
   "outputs": [],
   "source": [
    "def search(cv_params,other_params):\n",
    "    global X,Y\n",
    "    model = XGBRegressor(**other_params)\n",
    "    optimized_GBM = GridSearchCV(estimator=model, param_grid=cv_params, scoring='neg_mean_squared_error', cv=5, verbose=1, n_jobs=4)\n",
    "    optimized_GBM.fit(X,Y)   \n",
    "    better_params =optimized_GBM.best_params_\n",
    "    for f in better_params.keys():\n",
    "        other_params[f]=better_params[f]\n",
    "        if better_params[f] == cv_params[f][0] or better_params[f] == cv_params[f][-1]:\n",
    "            print(\"WARNING:  ({}) touch limit: {}\".format(f,better_params[f]))\n",
    "    \n",
    "    print(optimized_GBM.best_score_)\n",
    "    return other_params\n",
    "\n"
   ]
  },
  {
   "cell_type": "code",
   "execution_count": null,
   "metadata": {},
   "outputs": [],
   "source": [
    "cv_params = {'n_estimators': list(range(100,500,100))}\n",
    "other_params = {'learning_rate': 0.1, 'n_estimators': 500, 'max_depth': 5, 'min_child_weight': 1,'seed': 0,\n",
    "                'subsample': 0.8, 'colsample_bytree': 0.8, 'gamma': 0, 'reg_alpha': 0,'reg_lambda': 1}\n",
    "params = search(cv_params,other_params)"
   ]
  },
  {
   "cell_type": "code",
   "execution_count": null,
   "metadata": {},
   "outputs": [],
   "source": [
    "cv_params = {'max_depth': [3, 4, 5, 6, 7, 8, 9, 10], 'min_child_weight': [1, 2, 3, 4, 5, 6]}\n",
    "params = search(cv_params,params)"
   ]
  },
  {
   "cell_type": "code",
   "execution_count": null,
   "metadata": {},
   "outputs": [],
   "source": [
    "cv_params = {'gamma': [0.1, 0.2, 0.3, 0.4, 0.5, 0.6]}\n",
    "params = search(cv_params,params)"
   ]
  },
  {
   "cell_type": "code",
   "execution_count": null,
   "metadata": {},
   "outputs": [],
   "source": [
    "cv_params = {'subsample': [0.4,0.5,0.6], 'colsample_bytree': [0.8, 0.9,1.0]}\n",
    "params = search(cv_params,params)"
   ]
  },
  {
   "cell_type": "code",
   "execution_count": null,
   "metadata": {},
   "outputs": [],
   "source": [
    "cv_params = {'reg_alpha': [0.05, 0.1, 1, 2, 3], 'reg_lambda': [0.05, 0.1, 1, 2, 3]}\n",
    "params = search(cv_params,params)"
   ]
  },
  {
   "cell_type": "code",
   "execution_count": null,
   "metadata": {},
   "outputs": [],
   "source": [
    "cv_params = {'learning_rate': [0.01, 0.05, 0.07, 0.1, 0.2]}\n",
    "params = search(cv_params,params)"
   ]
  },
  {
   "cell_type": "code",
   "execution_count": null,
   "metadata": {},
   "outputs": [],
   "source": [
    "for f in params.keys():\n",
    "    print(\"{}={}\".format(f,params[f]),end=\",\")"
   ]
  },
  {
   "cell_type": "markdown",
   "metadata": {},
   "source": [
    "## LGBMRegressor"
   ]
  },
  {
   "cell_type": "code",
   "execution_count": null,
   "metadata": {},
   "outputs": [],
   "source": [
    "def search(cv_params,other_params):\n",
    "    global X,Y\n",
    "    model = LGBMRegressor(**other_params)\n",
    "    optimized_GBM = GridSearchCV(estimator=model, param_grid=cv_params, scoring='neg_mean_squared_error', cv=5, verbose=1, n_jobs=4)\n",
    "    optimized_GBM.fit(X,Y)   \n",
    "    better_params =optimized_GBM.best_params_\n",
    "    for f in better_params.keys():\n",
    "        other_params[f]=better_params[f]\n",
    "        if better_params[f] == cv_params[f][0] or better_params[f] == cv_params[f][-1]:\n",
    "            print(\"WARNING:  ({}) touch limit: {}\".format(f,better_params[f]))\n",
    "    print(optimized_GBM.best_score_)\n",
    "    return other_params"
   ]
  },
  {
   "cell_type": "code",
   "execution_count": null,
   "metadata": {},
   "outputs": [],
   "source": [
    "cv_params = {'n_estimators': list(range(100,500,100))}\n",
    "other_params = {'learning_rate': 0.1, 'n_estimators': 500, 'max_depth': 5, 'min_child_weight': 1,'seed': 0,\n",
    "                'subsample': 0.8, 'colsample_bytree': 0.8, 'gamma': 0, 'reg_alpha': 0,'reg_lambda': 1}\n",
    "params = search(cv_params,other_params)"
   ]
  },
  {
   "cell_type": "code",
   "execution_count": null,
   "metadata": {},
   "outputs": [],
   "source": [
    "cv_params = {'max_depth': [3, 4, 5, 6, 7, 8, 9, 10], 'min_child_weight': [1, 2, 3, 4, 5, 6]}\n",
    "params = search(cv_params,params)"
   ]
  },
  {
   "cell_type": "code",
   "execution_count": null,
   "metadata": {},
   "outputs": [],
   "source": [
    "cv_params = {'gamma': [0.03,0.05,0.1]}\n",
    "params = search(cv_params,params)"
   ]
  },
  {
   "cell_type": "code",
   "execution_count": null,
   "metadata": {},
   "outputs": [],
   "source": [
    "cv_params = {'subsample': [0.6, 0.7, 0.8, 0.9], 'colsample_bytree': [0.4,0.5,0.6]}\n",
    "params = search(cv_params,params)"
   ]
  },
  {
   "cell_type": "code",
   "execution_count": null,
   "metadata": {},
   "outputs": [],
   "source": [
    "cv_params = {'reg_alpha': [0,0.05, 0.1, 1, 2, 3], 'reg_lambda': [0.05, 0.1, 1, 2, 3]}\n",
    "params = search(cv_params,params)"
   ]
  },
  {
   "cell_type": "code",
   "execution_count": null,
   "metadata": {},
   "outputs": [],
   "source": [
    "cv_params = {'learning_rate': [0.01, 0.05, 0.07, 0.1, 0.2]}\n",
    "params = search(cv_params,params)"
   ]
  },
  {
   "cell_type": "code",
   "execution_count": null,
   "metadata": {},
   "outputs": [],
   "source": [
    "for f in params.keys():\n",
    "    print(\"{}={}\".format(f,params[f]),end=\",\")"
   ]
  }
 ],
 "metadata": {
  "kernelspec": {
   "display_name": "Python 3",
   "language": "python",
   "name": "python3"
  },
  "language_info": {
   "codemirror_mode": {
    "name": "ipython",
    "version": 3
   },
   "file_extension": ".py",
   "mimetype": "text/x-python",
   "name": "python",
   "nbconvert_exporter": "python",
   "pygments_lexer": "ipython3",
   "version": "3.6.7"
  }
 },
 "nbformat": 4,
 "nbformat_minor": 2
}
