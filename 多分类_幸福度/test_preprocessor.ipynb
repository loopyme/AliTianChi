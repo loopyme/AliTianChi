{
 "cells": [
  {
   "cell_type": "markdown",
   "metadata": {},
   "source": [
    "# 数据探索\n",
    "主要完成**EDA**(探索式数据分析)和**可视化**"
   ]
  },
  {
   "cell_type": "code",
   "execution_count": 1,
   "metadata": {},
   "outputs": [],
   "source": [
    "import pandas as pd\n",
    "import time\n",
    "import warnings\n",
    "import seaborn as sns\n",
    "import matplotlib.pyplot as plt\n",
    "import math\n",
    "pd.set_option('max_colwidth',200)\n",
    "warnings.filterwarnings(\"ignore\")\n",
    "sns.set(style=\"white\", color_codes=True)"
   ]
  },
  {
   "cell_type": "code",
   "execution_count": 2,
   "metadata": {
    "scrolled": true
   },
   "outputs": [
    {
     "data": {
      "text/html": [
       "<div>\n",
       "<style scoped>\n",
       "    .dataframe tbody tr th:only-of-type {\n",
       "        vertical-align: middle;\n",
       "    }\n",
       "\n",
       "    .dataframe tbody tr th {\n",
       "        vertical-align: top;\n",
       "    }\n",
       "\n",
       "    .dataframe thead th {\n",
       "        text-align: right;\n",
       "    }\n",
       "</style>\n",
       "<table border=\"1\" class=\"dataframe\">\n",
       "  <thead>\n",
       "    <tr style=\"text-align: right;\">\n",
       "      <th></th>\n",
       "      <th>id</th>\n",
       "      <th>survey_type</th>\n",
       "      <th>province</th>\n",
       "      <th>city</th>\n",
       "      <th>county</th>\n",
       "      <th>survey_time</th>\n",
       "      <th>gender</th>\n",
       "      <th>birth</th>\n",
       "      <th>nationality</th>\n",
       "      <th>religion</th>\n",
       "      <th>...</th>\n",
       "      <th>neighbor_familiarity</th>\n",
       "      <th>public_service_1</th>\n",
       "      <th>public_service_2</th>\n",
       "      <th>public_service_3</th>\n",
       "      <th>public_service_4</th>\n",
       "      <th>public_service_5</th>\n",
       "      <th>public_service_6</th>\n",
       "      <th>public_service_7</th>\n",
       "      <th>public_service_8</th>\n",
       "      <th>public_service_9</th>\n",
       "    </tr>\n",
       "  </thead>\n",
       "  <tbody>\n",
       "    <tr>\n",
       "      <th>0</th>\n",
       "      <td>8001</td>\n",
       "      <td>1</td>\n",
       "      <td>2</td>\n",
       "      <td>2</td>\n",
       "      <td>9</td>\n",
       "      <td>2015/7/24 10:30</td>\n",
       "      <td>2</td>\n",
       "      <td>1972</td>\n",
       "      <td>8</td>\n",
       "      <td>0</td>\n",
       "      <td>...</td>\n",
       "      <td>4</td>\n",
       "      <td>80</td>\n",
       "      <td>80.0</td>\n",
       "      <td>60</td>\n",
       "      <td>80</td>\n",
       "      <td>80</td>\n",
       "      <td>80</td>\n",
       "      <td>80</td>\n",
       "      <td>80</td>\n",
       "      <td>80</td>\n",
       "    </tr>\n",
       "    <tr>\n",
       "      <th>1</th>\n",
       "      <td>8002</td>\n",
       "      <td>1</td>\n",
       "      <td>22</td>\n",
       "      <td>66</td>\n",
       "      <td>106</td>\n",
       "      <td>2015/7/12 15:38</td>\n",
       "      <td>2</td>\n",
       "      <td>1938</td>\n",
       "      <td>1</td>\n",
       "      <td>1</td>\n",
       "      <td>...</td>\n",
       "      <td>5</td>\n",
       "      <td>90</td>\n",
       "      <td>80.0</td>\n",
       "      <td>80</td>\n",
       "      <td>80</td>\n",
       "      <td>80</td>\n",
       "      <td>80</td>\n",
       "      <td>70</td>\n",
       "      <td>80</td>\n",
       "      <td>80</td>\n",
       "    </tr>\n",
       "    <tr>\n",
       "      <th>2</th>\n",
       "      <td>8003</td>\n",
       "      <td>2</td>\n",
       "      <td>9</td>\n",
       "      <td>22</td>\n",
       "      <td>44</td>\n",
       "      <td>2015/7/5 9:36</td>\n",
       "      <td>2</td>\n",
       "      <td>1935</td>\n",
       "      <td>1</td>\n",
       "      <td>1</td>\n",
       "      <td>...</td>\n",
       "      <td>5</td>\n",
       "      <td>95</td>\n",
       "      <td>95.0</td>\n",
       "      <td>80</td>\n",
       "      <td>90</td>\n",
       "      <td>80</td>\n",
       "      <td>95</td>\n",
       "      <td>95</td>\n",
       "      <td>80</td>\n",
       "      <td>90</td>\n",
       "    </tr>\n",
       "    <tr>\n",
       "      <th>3</th>\n",
       "      <td>8004</td>\n",
       "      <td>2</td>\n",
       "      <td>18</td>\n",
       "      <td>52</td>\n",
       "      <td>86</td>\n",
       "      <td>2015/7/19 10:10</td>\n",
       "      <td>2</td>\n",
       "      <td>1992</td>\n",
       "      <td>1</td>\n",
       "      <td>1</td>\n",
       "      <td>...</td>\n",
       "      <td>4</td>\n",
       "      <td>80</td>\n",
       "      <td>80.0</td>\n",
       "      <td>70</td>\n",
       "      <td>90</td>\n",
       "      <td>80</td>\n",
       "      <td>80</td>\n",
       "      <td>70</td>\n",
       "      <td>60</td>\n",
       "      <td>50</td>\n",
       "    </tr>\n",
       "    <tr>\n",
       "      <th>4</th>\n",
       "      <td>8005</td>\n",
       "      <td>2</td>\n",
       "      <td>24</td>\n",
       "      <td>70</td>\n",
       "      <td>110</td>\n",
       "      <td>2015/8/3 11:41</td>\n",
       "      <td>1</td>\n",
       "      <td>1990</td>\n",
       "      <td>1</td>\n",
       "      <td>1</td>\n",
       "      <td>...</td>\n",
       "      <td>-8</td>\n",
       "      <td>60</td>\n",
       "      <td>50.0</td>\n",
       "      <td>0</td>\n",
       "      <td>30</td>\n",
       "      <td>40</td>\n",
       "      <td>50</td>\n",
       "      <td>60</td>\n",
       "      <td>-2</td>\n",
       "      <td>60</td>\n",
       "    </tr>\n",
       "  </tbody>\n",
       "</table>\n",
       "<p>5 rows × 139 columns</p>\n",
       "</div>"
      ],
      "text/plain": [
       "     id  survey_type  province  city  county      survey_time  gender  birth  \\\n",
       "0  8001            1         2     2       9  2015/7/24 10:30       2   1972   \n",
       "1  8002            1        22    66     106  2015/7/12 15:38       2   1938   \n",
       "2  8003            2         9    22      44    2015/7/5 9:36       2   1935   \n",
       "3  8004            2        18    52      86  2015/7/19 10:10       2   1992   \n",
       "4  8005            2        24    70     110   2015/8/3 11:41       1   1990   \n",
       "\n",
       "   nationality  religion  ...  neighbor_familiarity  public_service_1  \\\n",
       "0            8         0  ...                     4                80   \n",
       "1            1         1  ...                     5                90   \n",
       "2            1         1  ...                     5                95   \n",
       "3            1         1  ...                     4                80   \n",
       "4            1         1  ...                    -8                60   \n",
       "\n",
       "  public_service_2  public_service_3  public_service_4  public_service_5  \\\n",
       "0             80.0                60                80                80   \n",
       "1             80.0                80                80                80   \n",
       "2             95.0                80                90                80   \n",
       "3             80.0                70                90                80   \n",
       "4             50.0                 0                30                40   \n",
       "\n",
       "   public_service_6  public_service_7  public_service_8  public_service_9  \n",
       "0                80                80                80                80  \n",
       "1                80                70                80                80  \n",
       "2                95                95                80                90  \n",
       "3                80                70                60                50  \n",
       "4                50                60                -2                60  \n",
       "\n",
       "[5 rows x 139 columns]"
      ]
     },
     "execution_count": 2,
     "metadata": {},
     "output_type": "execute_result"
    }
   ],
   "source": [
    "data=pd.read_csv('./data/happiness_test_complete.csv',encoding='gbk')\n",
    "data.fillna(-8)\n",
    "data.head(5)"
   ]
  },
  {
   "cell_type": "markdown",
   "metadata": {},
   "source": [
    "## 调整格式"
   ]
  },
  {
   "cell_type": "code",
   "execution_count": 3,
   "metadata": {},
   "outputs": [],
   "source": [
    "data['survey_time'] = data['survey_time'].apply(lambda x: time.mktime(time.strptime(x,\"%Y/%m/%d %H:%M\")))\n",
    "data = data.drop([\"property_other\",\"invest_other\",\"edu_other\"],axis=1)\n"
   ]
  },
  {
   "cell_type": "code",
   "execution_count": 4,
   "metadata": {},
   "outputs": [],
   "source": [
    "def fillna(data,features):\n",
    "    for i in range(len(features)):\n",
    "        temp_operation_feature = features[i]                                    \n",
    "        temp_mean= data[data[temp_operation_feature]>0][temp_operation_feature].mean()\n",
    "        data[temp_operation_feature]=data[temp_operation_feature].apply(lambda x: temp_mean if x<0 or pd.isna(x) else x)\n",
    "    data[temp_operation_feature].hist()\n",
    "    return data"
   ]
  },
  {
   "cell_type": "markdown",
   "metadata": {},
   "source": [
    "## 开始玩特征!\n",
    "### 1.目标: happiness\t "
   ]
  },
  {
   "cell_type": "markdown",
   "metadata": {},
   "source": [
    "That's allright"
   ]
  },
  {
   "cell_type": "markdown",
   "metadata": {},
   "source": [
    "### 2. 采访地点"
   ]
  },
  {
   "cell_type": "code",
   "execution_count": 5,
   "metadata": {},
   "outputs": [
    {
     "data": {
      "text/plain": [
       "count    2968.000000\n",
       "mean        1.422507\n",
       "std         0.494042\n",
       "min         1.000000\n",
       "25%         1.000000\n",
       "50%         1.000000\n",
       "75%         2.000000\n",
       "max         2.000000\n",
       "Name: survey_type, dtype: float64"
      ]
     },
     "execution_count": 5,
     "metadata": {},
     "output_type": "execute_result"
    }
   ],
   "source": [
    "data['survey_type'].describe()"
   ]
  },
  {
   "cell_type": "markdown",
   "metadata": {},
   "source": [
    "province city county 能拼一起吗? city编号是各自的编号,还是在province里的编号?\n"
   ]
  },
  {
   "cell_type": "markdown",
   "metadata": {},
   "source": [
    "那 province city就再见了"
   ]
  },
  {
   "cell_type": "code",
   "execution_count": 6,
   "metadata": {},
   "outputs": [],
   "source": [
    "data = data.drop(['province','city'],axis=1)"
   ]
  },
  {
   "cell_type": "markdown",
   "metadata": {},
   "source": [
    "### 3.问卷时间"
   ]
  },
  {
   "cell_type": "markdown",
   "metadata": {},
   "source": [
    "个人感觉没用,再加上有个离群点"
   ]
  },
  {
   "cell_type": "code",
   "execution_count": 7,
   "metadata": {},
   "outputs": [],
   "source": [
    "data = data.drop(['survey_time'],axis=1)"
   ]
  },
  {
   "cell_type": "markdown",
   "metadata": {},
   "source": [
    "### 4.身体信息"
   ]
  },
  {
   "cell_type": "markdown",
   "metadata": {},
   "source": [
    "### 5.年龄"
   ]
  },
  {
   "cell_type": "markdown",
   "metadata": {},
   "source": [
    "我就是想把它变成年龄(但后面有归一化,所以这步完全是一点没用的)"
   ]
  },
  {
   "cell_type": "code",
   "execution_count": 8,
   "metadata": {},
   "outputs": [],
   "source": [
    "data[['age']]=data[['birth']].apply(lambda x:2019-x)\n",
    "data = data.drop('birth',axis=1)"
   ]
  },
  {
   "cell_type": "markdown",
   "metadata": {},
   "source": [
    "### 6.民族\n",
    "这里数值的相邻并不表示逻辑的相邻,按理应该One-hot,但我懒,所以干脆把少数民族都变成0,汉族为1"
   ]
  },
  {
   "cell_type": "code",
   "execution_count": 9,
   "metadata": {},
   "outputs": [],
   "source": [
    "data['nationality'] = data['nationality'].apply(lambda x:1 if x==1 else 0)\n"
   ]
  },
  {
   "cell_type": "markdown",
   "metadata": {},
   "source": [
    "### 7.宗教"
   ]
  },
  {
   "cell_type": "code",
   "execution_count": 10,
   "metadata": {},
   "outputs": [
    {
     "data": {
      "image/png": "[encoded data removed]",
      "text/plain": [
       "<Figure size 432x288 with 1 Axes>"
      ]
     },
     "metadata": {
      "needs_background": "light"
     },
     "output_type": "display_data"
    }
   ],
   "source": [
    "data = fillna(data,['religion','religion_freq'])"
   ]
  },
  {
   "cell_type": "markdown",
   "metadata": {},
   "source": [
    "### 8.教育\n",
    "教育程度edu可以直接用"
   ]
  },
  {
   "cell_type": "code",
   "execution_count": null,
   "metadata": {},
   "outputs": [],
   "source": []
  },
  {
   "cell_type": "code",
   "execution_count": null,
   "metadata": {
    "scrolled": true
   },
   "outputs": [],
   "source": [
    "\n"
   ]
  },
  {
   "cell_type": "code",
   "execution_count": 11,
   "metadata": {},
   "outputs": [
    {
     "data": {
      "image/png": "[encoded data removed]",
      "text/plain": [
       "<Figure size 432x288 with 1 Axes>"
      ]
     },
     "metadata": {
      "needs_background": "light"
     },
     "output_type": "display_data"
    }
   ],
   "source": [
    "def temp_bagging(n):\n",
    "    if pd.isna(n):\n",
    "        return 0\n",
    "    if n<500:\n",
    "        return 0\n",
    "    else:\n",
    "        return round((n-1930)/40)\n",
    "data['edu_yr'].apply(lambda x:temp_bagging(x)).hist()\n",
    "data = data.drop('edu_yr',axis=1)"
   ]
  },
  {
   "cell_type": "markdown",
   "metadata": {},
   "source": [
    "重排一下edu_status,大致按教育进度低到高"
   ]
  },
  {
   "cell_type": "code",
   "execution_count": 12,
   "metadata": {},
   "outputs": [],
   "source": [
    "temp_dic={1:2,2:3,3:1,4:4}\n",
    "data['edu_status'] = data['edu_status'].apply(lambda x :temp_dic[x] if 0<x<5 else 1)\n"
   ]
  },
  {
   "cell_type": "markdown",
   "metadata": {},
   "source": [
    "### 9.收入\n",
    "离散化操作,调整一下数据的形态"
   ]
  },
  {
   "cell_type": "code",
   "execution_count": 13,
   "metadata": {},
   "outputs": [],
   "source": [
    "data['income']=data['income'].apply(lambda x:math.log(x) if x>0 else -1)"
   ]
  },
  {
   "cell_type": "markdown",
   "metadata": {},
   "source": [
    "相当于做了一个分箱,这样正相关就更明显了"
   ]
  },
  {
   "cell_type": "markdown",
   "metadata": {},
   "source": [
    "### 10.政治面貌\n",
    "略微调整一下顺序."
   ]
  },
  {
   "cell_type": "code",
   "execution_count": 14,
   "metadata": {},
   "outputs": [],
   "source": [
    "temp_dic={1:1,2:2,3:4,4:3}\n",
    "data['political'] = data['political'].apply(lambda x :temp_dic[x] if 0<x<5 else 1)"
   ]
  },
  {
   "cell_type": "code",
   "execution_count": null,
   "metadata": {},
   "outputs": [],
   "source": []
  },
  {
   "cell_type": "code",
   "execution_count": 15,
   "metadata": {},
   "outputs": [
    {
     "data": {
      "image/png": "[encoded data removed]",
      "text/plain": [
       "<Figure size 432x288 with 1 Axes>"
      ]
     },
     "metadata": {
      "needs_background": "light"
     },
     "output_type": "display_data"
    }
   ],
   "source": [
    "def temp_bagging(n):\n",
    "    if pd.isna(n):\n",
    "        return 0\n",
    "    if n<500:\n",
    "        return 0\n",
    "    else:\n",
    "        return round((n-1930)/40)\n",
    "data['join_party'].apply(lambda x:temp_bagging(x)).hist()\n",
    "data = data.drop('join_party',axis=1)"
   ]
  },
  {
   "cell_type": "markdown",
   "metadata": {},
   "source": [
    "### 10.住房\n",
    "面积特征需要一样的离散化操作,property_0~8可以直接用"
   ]
  },
  {
   "cell_type": "code",
   "execution_count": 16,
   "metadata": {},
   "outputs": [],
   "source": [
    "data['floor_area']=data['floor_area'].apply(lambda x:math.log(x) if x>0 else -1)\n"
   ]
  },
  {
   "cell_type": "markdown",
   "metadata": {},
   "source": [
    "### 11.健康\n",
    "数据缺失的就丢到3里去"
   ]
  },
  {
   "cell_type": "code",
   "execution_count": 17,
   "metadata": {},
   "outputs": [
    {
     "data": {
      "image/png": "[encoded data removed]",
      "text/plain": [
       "<Figure size 432x288 with 1 Axes>"
      ]
     },
     "metadata": {
      "needs_background": "light"
     },
     "output_type": "display_data"
    }
   ],
   "source": [
    "data = fillna(data,['health'])"
   ]
  },
  {
   "cell_type": "code",
   "execution_count": null,
   "metadata": {
    "scrolled": true
   },
   "outputs": [],
   "source": []
  },
  {
   "cell_type": "markdown",
   "metadata": {},
   "source": [
    "health_problem没有说明,并且与health相关性高,于是drop掉"
   ]
  },
  {
   "cell_type": "code",
   "execution_count": 18,
   "metadata": {},
   "outputs": [],
   "source": [
    "data = data.drop('health_problem',axis=1)"
   ]
  },
  {
   "cell_type": "markdown",
   "metadata": {},
   "source": [
    "### 12.心情"
   ]
  },
  {
   "cell_type": "markdown",
   "metadata": {},
   "source": [
    "这可是个好特征"
   ]
  },
  {
   "cell_type": "markdown",
   "metadata": {},
   "source": [
    "### 13.户口\n",
    "这个必须得one-hot了"
   ]
  },
  {
   "cell_type": "code",
   "execution_count": 19,
   "metadata": {},
   "outputs": [],
   "source": [
    "temp = ['hukou_{}'.format(i) for i in range(1,9)]\n",
    "for i in range(len(temp)):\n",
    "    temp_operation_feature=temp[i]\n",
    "    data[temp_operation_feature]=data['hukou'].apply(lambda x: 1 if x==i else 0)"
   ]
  },
  {
   "cell_type": "code",
   "execution_count": 20,
   "metadata": {},
   "outputs": [],
   "source": [
    "data = data.drop('hukou',axis=1)"
   ]
  },
  {
   "cell_type": "code",
   "execution_count": 21,
   "metadata": {},
   "outputs": [],
   "source": [
    "temp =  ['hukou_loc_{}'.format(i) for i in range(1,5)]\n",
    "for i in range(len(temp)):\n",
    "    temp_operation_feature=temp[i]\n",
    "    data[temp_operation_feature]=data['hukou_loc'].apply(lambda x: 1 if x==i else 0)"
   ]
  },
  {
   "cell_type": "code",
   "execution_count": 22,
   "metadata": {},
   "outputs": [],
   "source": [
    "data = data.drop('hukou_loc',axis=1)"
   ]
  },
  {
   "cell_type": "markdown",
   "metadata": {},
   "source": [
    "### 14.娱乐与社交\n",
    "检查一下就好了,缺的全部置中"
   ]
  },
  {
   "cell_type": "code",
   "execution_count": 23,
   "metadata": {},
   "outputs": [
    {
     "data": {
      "image/png": "[encoded data removed]",
      "text/plain": [
       "<Figure size 432x288 with 1 Axes>"
      ]
     },
     "metadata": {
      "needs_background": "light"
     },
     "output_type": "display_data"
    }
   ],
   "source": [
    "data = fillna(data,['media_{}'.format(i) for i in range(1,7)])"
   ]
  },
  {
   "cell_type": "code",
   "execution_count": 24,
   "metadata": {},
   "outputs": [
    {
     "data": {
      "image/png": "[encoded data removed]",
      "text/plain": [
       "<Figure size 432x288 with 1 Axes>"
      ]
     },
     "metadata": {
      "needs_background": "light"
     },
     "output_type": "display_data"
    }
   ],
   "source": [
    "data = fillna(data,['leisure_{}'.format(i) for i in range(1,13)])"
   ]
  },
  {
   "cell_type": "code",
   "execution_count": 25,
   "metadata": {
    "scrolled": true
   },
   "outputs": [
    {
     "data": {
      "image/png": "[encoded data removed]",
      "text/plain": [
       "<Figure size 432x288 with 1 Axes>"
      ]
     },
     "metadata": {
      "needs_background": "light"
     },
     "output_type": "display_data"
    }
   ],
   "source": [
    "data = fillna(data,['socialize','relax','learn','social_neighbor','social_friend','socia_outing','equity'])"
   ]
  },
  {
   "cell_type": "markdown",
   "metadata": {},
   "source": [
    "### 14.阶层\n",
    "class\n",
    "class_10_before\n",
    "class_10_after\n",
    "class_14\n",
    "先填补缺失值"
   ]
  },
  {
   "cell_type": "code",
   "execution_count": 26,
   "metadata": {},
   "outputs": [
    {
     "data": {
      "image/png": "[encoded data removed]",
      "text/plain": [
       "<Figure size 432x288 with 1 Axes>"
      ]
     },
     "metadata": {
      "needs_background": "light"
     },
     "output_type": "display_data"
    }
   ],
   "source": [
    "data = fillna(data,['class','class_10_before','class_10_after','class_14'])"
   ]
  },
  {
   "cell_type": "code",
   "execution_count": 27,
   "metadata": {},
   "outputs": [],
   "source": [
    "data['class_10_after_rate'] = (data['class']/data['class_10_after'])\n",
    "data['class_10_before_rate'] = (data['class']/data['class_10_before'])\n",
    "data['class_14_rate'] = (data['class']/data['class_14'])"
   ]
  },
  {
   "cell_type": "markdown",
   "metadata": {},
   "source": [
    "### 15. 工作\n",
    "填补一下空值就好了"
   ]
  },
  {
   "cell_type": "code",
   "execution_count": 28,
   "metadata": {},
   "outputs": [
    {
     "data": {
      "image/png": "[encoded data removed]",
      "text/plain": [
       "<Figure size 432x288 with 1 Axes>"
      ]
     },
     "metadata": {
      "needs_background": "light"
     },
     "output_type": "display_data"
    }
   ],
   "source": [
    "data = fillna(data,['work_exper','work_status','work_yr','work_type','work_manage'])"
   ]
  },
  {
   "cell_type": "markdown",
   "metadata": {},
   "source": [
    "### 15. 社保\n",
    "填补一下空值就好了"
   ]
  },
  {
   "cell_type": "markdown",
   "metadata": {},
   "source": [
    "没有我以为的相关系数那么大..."
   ]
  },
  {
   "cell_type": "code",
   "execution_count": 29,
   "metadata": {},
   "outputs": [
    {
     "data": {
      "image/png": "[encoded data removed]",
      "text/plain": [
       "<Figure size 432x288 with 1 Axes>"
      ]
     },
     "metadata": {
      "needs_background": "light"
     },
     "output_type": "display_data"
    }
   ],
   "source": [
    "data = fillna(data,['insur_1','insur_2','insur_3','insur_4'])"
   ]
  },
  {
   "cell_type": "markdown",
   "metadata": {},
   "source": [
    "为什么异常值调整了以后,相关系数都降那么多? -没解决的问题"
   ]
  },
  {
   "cell_type": "markdown",
   "metadata": {},
   "source": [
    "### 16. 家庭情况\n",
    "##### 16.1 收入\n",
    "先计算人均收入,再取对数"
   ]
  },
  {
   "cell_type": "code",
   "execution_count": 30,
   "metadata": {},
   "outputs": [],
   "source": [
    "data['family_income_per']=(data['family_income']/data['family_m']).apply(lambda x:math.log(x) if x>0 else -1)"
   ]
  },
  {
   "cell_type": "markdown",
   "metadata": {},
   "source": [
    "然后来个组合变量,由于是取过对数,这里直接减了"
   ]
  },
  {
   "cell_type": "code",
   "execution_count": 31,
   "metadata": {},
   "outputs": [],
   "source": [
    "data['income_rate']=data['family_income_per']-data['income']"
   ]
  },
  {
   "cell_type": "code",
   "execution_count": 32,
   "metadata": {},
   "outputs": [],
   "source": [
    "data = data.drop(['family_income'],axis=1)"
   ]
  },
  {
   "cell_type": "code",
   "execution_count": 33,
   "metadata": {},
   "outputs": [
    {
     "data": {
      "image/png": "[encoded data removed]",
      "text/plain": [
       "<Figure size 432x288 with 1 Axes>"
      ]
     },
     "metadata": {
      "needs_background": "light"
     },
     "output_type": "display_data"
    }
   ],
   "source": [
    "data = fillna(data,['family_status'])"
   ]
  },
  {
   "cell_type": "markdown",
   "metadata": {},
   "source": [
    "#### 16.2 房,车\n",
    "负房产? 直接装袋"
   ]
  },
  {
   "cell_type": "code",
   "execution_count": 34,
   "metadata": {},
   "outputs": [],
   "source": [
    "def temp_bagging(n):\n",
    "    if n>1:\n",
    "        return 3\n",
    "    if n>0:\n",
    "        return 2\n",
    "    else:\n",
    "        return 1\n",
    "data['house'] =data['house'].apply(lambda x:temp_bagging(x))\n"
   ]
  },
  {
   "cell_type": "code",
   "execution_count": 35,
   "metadata": {
    "scrolled": true
   },
   "outputs": [
    {
     "data": {
      "image/png": "[encoded data removed]",
      "text/plain": [
       "<Figure size 432x288 with 1 Axes>"
      ]
     },
     "metadata": {
      "needs_background": "light"
     },
     "output_type": "display_data"
    }
   ],
   "source": [
    "data=fillna(data,['car'])"
   ]
  },
  {
   "cell_type": "markdown",
   "metadata": {},
   "source": [
    "#### 16.3 投资\n",
    "已经one-hot了,fillna"
   ]
  },
  {
   "cell_type": "code",
   "execution_count": 36,
   "metadata": {},
   "outputs": [
    {
     "data": {
      "image/png": "[encoded data removed]",
      "text/plain": [
       "<Figure size 432x288 with 1 Axes>"
      ]
     },
     "metadata": {
      "needs_background": "light"
     },
     "output_type": "display_data"
    }
   ],
   "source": [
    "data=fillna(data,['invest_{}'.format(i) for i in range(9)])"
   ]
  },
  {
   "cell_type": "markdown",
   "metadata": {},
   "source": [
    "#### 16.3 儿女\n",
    "可能需要装一下袋"
   ]
  },
  {
   "cell_type": "code",
   "execution_count": 37,
   "metadata": {},
   "outputs": [
    {
     "data": {
      "image/png": "[encoded data removed]",
      "text/plain": [
       "<Figure size 432x288 with 1 Axes>"
      ]
     },
     "metadata": {
      "needs_background": "light"
     },
     "output_type": "display_data"
    }
   ],
   "source": [
    "data=fillna(data,['son','daughter','minor_child'])"
   ]
  },
  {
   "cell_type": "markdown",
   "metadata": {},
   "source": [
    "女儿令人快乐,儿子令人不快乐...(滑稽)\n",
    "\n",
    "但还是别把两个特征和一起了"
   ]
  },
  {
   "cell_type": "code",
   "execution_count": 38,
   "metadata": {},
   "outputs": [],
   "source": [
    "def temp_bagging(n):\n",
    "    if n>1:\n",
    "        return 3\n",
    "    if n>0:\n",
    "        return 2\n",
    "    else:\n",
    "        return 1\n",
    "data['son'] =data['son'].apply(lambda x:temp_bagging(x))"
   ]
  },
  {
   "cell_type": "code",
   "execution_count": 39,
   "metadata": {},
   "outputs": [],
   "source": [
    "def temp_bagging(n):\n",
    "    if n>1:\n",
    "        return 3\n",
    "    if n>0:\n",
    "        return 2\n",
    "    else:\n",
    "        return 1\n",
    "data['daughter'] =data['daughter'].apply(lambda x:temp_bagging(x))"
   ]
  },
  {
   "cell_type": "code",
   "execution_count": 40,
   "metadata": {},
   "outputs": [],
   "source": [
    "def temp_bagging(n):\n",
    "    if n>1:\n",
    "        return 3\n",
    "    if n>0:\n",
    "        return 2\n",
    "    else:\n",
    "        return 1\n",
    "data['minor_child'] =data['minor_child'].apply(lambda x:temp_bagging(x))"
   ]
  },
  {
   "cell_type": "markdown",
   "metadata": {},
   "source": [
    "### 16.4 婚姻"
   ]
  },
  {
   "cell_type": "code",
   "execution_count": 41,
   "metadata": {},
   "outputs": [],
   "source": [
    "for temp_operation_feature in ['marital_{}'.format(i) for i in range(1,9)]:\n",
    "    data[temp_operation_feature]=data['marital'].apply(lambda x: 1 if x==i else 0)\n",
    "data = data.drop('marital',axis=1)"
   ]
  },
  {
   "cell_type": "markdown",
   "metadata": {},
   "source": [
    "结婚时间不知道咋用,先分下袋吧"
   ]
  },
  {
   "cell_type": "code",
   "execution_count": 42,
   "metadata": {},
   "outputs": [],
   "source": [
    "def temp_bagging(n):\n",
    "    if pd.isna(n):\n",
    "        return 0\n",
    "    if n<500:\n",
    "        return 0\n",
    "    else:\n",
    "        return round((n-1930)/10)\n",
    "data['marital_1st'] = data['marital_1st'].apply(lambda x:temp_bagging(x))\n"
   ]
  },
  {
   "cell_type": "code",
   "execution_count": 43,
   "metadata": {},
   "outputs": [],
   "source": [
    "def temp_bagging(n):\n",
    "    if pd.isna(n):\n",
    "        return 0\n",
    "    if n<500:\n",
    "        return 0\n",
    "    else:\n",
    "        return round((n-1930)/10)\n",
    "data['marital_now'] = data['marital_now'].apply(lambda x:temp_bagging(x))\n"
   ]
  },
  {
   "cell_type": "markdown",
   "metadata": {},
   "source": [
    "计算配偶年龄比"
   ]
  },
  {
   "cell_type": "code",
   "execution_count": 44,
   "metadata": {},
   "outputs": [
    {
     "data": {
      "image/png": "[encoded data removed]",
      "text/plain": [
       "<Figure size 432x288 with 1 Axes>"
      ]
     },
     "metadata": {
      "needs_background": "light"
     },
     "output_type": "display_data"
    }
   ],
   "source": [
    "data =fillna(data,['s_birth'])"
   ]
  },
  {
   "cell_type": "code",
   "execution_count": 45,
   "metadata": {},
   "outputs": [],
   "source": [
    "data['age_rate']=((2019-data['s_birth'])/data['age'])\n"
   ]
  },
  {
   "cell_type": "markdown",
   "metadata": {},
   "source": [
    "配偶信息和本人的信息一样操作,然后稍微组合一下"
   ]
  },
  {
   "cell_type": "code",
   "execution_count": 46,
   "metadata": {},
   "outputs": [],
   "source": [
    "temp_dic={1:1,2:2,3:4,4:3}\n",
    "data['s_political'] = data['s_political'].apply(lambda x :temp_dic[x] if 0<x<5 else 1)"
   ]
  },
  {
   "cell_type": "code",
   "execution_count": 47,
   "metadata": {},
   "outputs": [],
   "source": [
    "for temp_operation_feature in ['s_hukou_{}'.format(i) for i in range(1,9)]:\n",
    "    data[temp_operation_feature]=data['s_hukou'].apply(lambda x: 1 if x==i else 0)\n",
    "data = data.drop('s_hukou',axis=1)"
   ]
  },
  {
   "cell_type": "code",
   "execution_count": 48,
   "metadata": {},
   "outputs": [],
   "source": [
    "data['s_income']=data['s_income'].apply(lambda x:math.log(x) if x>0 else -1)\n",
    "data['s_income_rate']=data['s_income']-data['income']"
   ]
  },
  {
   "cell_type": "markdown",
   "metadata": {},
   "source": [
    "#### 16.5 父母\n",
    "组合一下吧"
   ]
  },
  {
   "cell_type": "code",
   "execution_count": 49,
   "metadata": {},
   "outputs": [],
   "source": [
    "data['parents_age_rate']=abs((2019-data['f_birth'])-(2019-data['m_birth']))\n",
    "\n",
    "temp_mean= data[data['parents_age_rate']<70]['parents_age_rate'].mean()\n",
    "data['parents_age_rate']=data['parents_age_rate'].apply(lambda x: temp_mean if x>70 or pd.isna(x) else x)"
   ]
  },
  {
   "cell_type": "code",
   "execution_count": 50,
   "metadata": {},
   "outputs": [
    {
     "data": {
      "image/png": "[encoded data removed]",
      "text/plain": [
       "<Figure size 432x288 with 1 Axes>"
      ]
     },
     "metadata": {
      "needs_background": "light"
     },
     "output_type": "display_data"
    }
   ],
   "source": [
    "data =fillna(data,['f_birth','m_birth'])\n",
    "data['f_older']=2019-data['f_birth']-data['age']\n",
    "data['m_older']=2019-data['m_birth']-data['age']\n",
    "data = data.drop(['f_birth','m_birth'],axis=1)"
   ]
  },
  {
   "cell_type": "code",
   "execution_count": 51,
   "metadata": {
    "scrolled": true
   },
   "outputs": [
    {
     "data": {
      "image/png": "[encoded data removed]",
      "text/plain": [
       "<Figure size 432x288 with 1 Axes>"
      ]
     },
     "metadata": {
      "needs_background": "light"
     },
     "output_type": "display_data"
    }
   ],
   "source": [
    "data =fillna(data,['f_edu','m_edu'])\n",
    "data['parents_edu_rate']=abs(data['f_edu']-data['m_edu'])"
   ]
  },
  {
   "cell_type": "code",
   "execution_count": 52,
   "metadata": {},
   "outputs": [
    {
     "data": {
      "image/png": "[encoded data removed]",
      "text/plain": [
       "<Figure size 432x288 with 1 Axes>"
      ]
     },
     "metadata": {
      "needs_background": "light"
     },
     "output_type": "display_data"
    }
   ],
   "source": [
    "temp_dic={1:1,2:2,3:4,4:3}\n",
    "data['f_political'] = data['f_political'].apply(lambda x :temp_dic[x] if 0<x<5 else 1)\n",
    "data['m_political'] = data['m_political'].apply(lambda x :temp_dic[x] if 0<x<5 else 1)\n",
    "data =fillna(data,['f_political','m_political'])"
   ]
  },
  {
   "cell_type": "markdown",
   "metadata": {},
   "source": [
    "父母工作one-hot一下"
   ]
  },
  {
   "cell_type": "code",
   "execution_count": 53,
   "metadata": {},
   "outputs": [],
   "source": [
    "temp = ['m_work_14_{}'.format(i) for i in range(1,18)]\n",
    "for i in range(len(temp)):\n",
    "    temp_operation_feature=temp[i]\n",
    "    data[temp_operation_feature]=data['m_work_14'].apply(lambda x: 1 if x==i else 0)"
   ]
  },
  {
   "cell_type": "code",
   "execution_count": 54,
   "metadata": {},
   "outputs": [],
   "source": [
    "temp = ['f_work_14_{}'.format(i) for i in range(1,18)]\n",
    "for i in range(len(temp)):\n",
    "    temp_operation_feature=temp[i]\n",
    "    data[temp_operation_feature]=data['f_work_14'].apply(lambda x: 1 if x==i else 0)"
   ]
  },
  {
   "cell_type": "markdown",
   "metadata": {},
   "source": [
    "### 17.现况满意"
   ]
  },
  {
   "cell_type": "code",
   "execution_count": 55,
   "metadata": {
    "scrolled": true
   },
   "outputs": [
    {
     "data": {
      "image/png": "[encoded data removed]",
      "text/plain": [
       "<Figure size 432x288 with 1 Axes>"
      ]
     },
     "metadata": {
      "needs_background": "light"
     },
     "output_type": "display_data"
    }
   ],
   "source": [
    "data =fillna(data,['status_peer','status_3_before','view','inc_ability'])"
   ]
  },
  {
   "cell_type": "code",
   "execution_count": 56,
   "metadata": {
    "scrolled": true
   },
   "outputs": [],
   "source": [
    "data['inc_exp']=data['inc_exp'].apply(lambda x:math.log(x) if x>0 else -1)"
   ]
  },
  {
   "cell_type": "code",
   "execution_count": 57,
   "metadata": {},
   "outputs": [],
   "source": [
    "data['income_exp_rate']=data['inc_exp']-data['income']"
   ]
  },
  {
   "cell_type": "code",
   "execution_count": 58,
   "metadata": {},
   "outputs": [
    {
     "data": {
      "image/png": "[encoded data removed]",
      "text/plain": [
       "<Figure size 432x288 with 1 Axes>"
      ]
     },
     "metadata": {
      "needs_background": "light"
     },
     "output_type": "display_data"
    }
   ],
   "source": [
    "data =fillna(data,['trust_{}'.format(i) for i in range(1,14)])\n",
    "data =fillna(data,['public_service_{}'.format(i) for i in range(1,10)])\n",
    "data =fillna(data,['neighbor_familiarity'])"
   ]
  },
  {
   "cell_type": "markdown",
   "metadata": {},
   "source": [
    "### 18.Id\n",
    "不需要犹豫"
   ]
  },
  {
   "cell_type": "code",
   "execution_count": 59,
   "metadata": {},
   "outputs": [],
   "source": [
    "data = data.drop(\"id\",axis=1)"
   ]
  },
  {
   "cell_type": "code",
   "execution_count": 60,
   "metadata": {},
   "outputs": [
    {
     "data": {
      "image/png": "[encoded data removed]",
      "text/plain": [
       "<Figure size 432x288 with 1 Axes>"
      ]
     },
     "metadata": {
      "needs_background": "light"
     },
     "output_type": "display_data"
    }
   ],
   "source": [
    "data=fillna(data,['s_work_type','depression','religion_freq','s_work_status','edu','s_edu','f_work_14','m_work_14','family_m'\n",
    "])"
   ]
  },
  {
   "cell_type": "markdown",
   "metadata": {},
   "source": [
    "## 保存一下"
   ]
  },
  {
   "cell_type": "code",
   "execution_count": 61,
   "metadata": {},
   "outputs": [],
   "source": [
    "data.to_csv('./data/washed_test_data.csv')"
   ]
  },
  {
   "cell_type": "code",
   "execution_count": 62,
   "metadata": {},
   "outputs": [],
   "source": [
    "data.describe().T.to_csv('./data/describe_test.csv')"
   ]
  },
  {
   "cell_type": "code",
   "execution_count": null,
   "metadata": {},
   "outputs": [],
   "source": []
  }
 ],
 "metadata": {
  "kernelspec": {
   "display_name": "Python 3",
   "language": "python",
   "name": "python3"
  },
  "language_info": {
   "codemirror_mode": {
    "name": "ipython",
    "version": 3
   },
   "file_extension": ".py",
   "mimetype": "text/x-python",
   "name": "python",
   "nbconvert_exporter": "python",
   "pygments_lexer": "ipython3",
   "version": "3.6.7"
  }
 },
 "nbformat": 4,
 "nbformat_minor": 2
}
